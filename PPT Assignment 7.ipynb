{
 "cells": [
  {
   "cell_type": "markdown",
   "id": "1b9cddf0-4eb3-4df4-b017-bda75688dc64",
   "metadata": {},
   "source": [
    "# Ans 1"
   ]
  },
  {
   "cell_type": "code",
   "execution_count": 1,
   "id": "ae7968f7-993d-4369-91d0-5f0991318626",
   "metadata": {},
   "outputs": [
    {
     "data": {
      "text/plain": [
       "True"
      ]
     },
     "execution_count": 1,
     "metadata": {},
     "output_type": "execute_result"
    }
   ],
   "source": [
    "s = \"egg\"\n",
    "t = \"add\"\n",
    "def isIsomorphic(s: str, t: str) -> bool:\n",
    "    \n",
    "    return len(set(s)) == len(set(t))\n",
    "isIsomorphic(s,t)"
   ]
  },
  {
   "cell_type": "markdown",
   "id": "0a1eb432-86ab-4498-ab08-26a96aee3908",
   "metadata": {},
   "source": [
    "# Ans 2"
   ]
  },
  {
   "cell_type": "code",
   "execution_count": 2,
   "id": "a8cc3fed-5617-40fb-b905-3395bfd9c76e",
   "metadata": {},
   "outputs": [
    {
     "data": {
      "text/plain": [
       "True"
      ]
     },
     "execution_count": 2,
     "metadata": {},
     "output_type": "execute_result"
    }
   ],
   "source": [
    "num = \"69\"\n",
    "def isStrobogrammatic(num):\n",
    "    \n",
    "    start , end , legal = 0 , -1 , \"01869\"\n",
    "    while start < end:\n",
    "        if \"\".join(sorted(num[start],num[end])) not in [\"00\",\"11\",\"88\",\"69\"]:\n",
    "            return False\n",
    "        start+=1\n",
    "        end-=1\n",
    "    return True\n",
    "isStrobogrammatic(num)"
   ]
  },
  {
   "cell_type": "markdown",
   "id": "207891c7-cb1f-475c-b8d9-a2cfe1afe5db",
   "metadata": {},
   "source": [
    "# Ans 3"
   ]
  },
  {
   "cell_type": "code",
   "execution_count": 3,
   "id": "f59da01e-2219-4b7f-b5a4-606762212445",
   "metadata": {},
   "outputs": [
    {
     "data": {
      "text/plain": [
       "'134'"
      ]
     },
     "execution_count": 3,
     "metadata": {},
     "output_type": "execute_result"
    }
   ],
   "source": [
    "num1 = \"11\"\n",
    "num2 = \"123\"\n",
    "class Solution:\n",
    "    \n",
    "    def str_to_num(self , s:str)->int:\n",
    "        sum1 = 0\n",
    "        for i in s:\n",
    "            sum1 = sum1*10 + int(i)\n",
    "        return (sum1)\n",
    "    \n",
    "    def addStrings(self , num1: str, num2: str) -> str:\n",
    "        \n",
    "        a = self.str_to_num(num1)\n",
    "\n",
    "        b = self.str_to_num(num2)\n",
    "        \n",
    "        return str(a+b)\n",
    "    \n",
    "obj = Solution()\n",
    "obj.addStrings(num1 , num2)"
   ]
  },
  {
   "cell_type": "markdown",
   "id": "9f3b3439-466e-4893-9204-5453824b008a",
   "metadata": {},
   "source": [
    "# Ans 4"
   ]
  },
  {
   "cell_type": "code",
   "execution_count": 4,
   "id": "0238c0e3-2d38-4e01-bfff-69c3e8a576ec",
   "metadata": {},
   "outputs": [
    {
     "data": {
      "text/plain": [
       "\"s'teL ekat edoCteeL tsetnoc\""
      ]
     },
     "execution_count": 4,
     "metadata": {},
     "output_type": "execute_result"
    }
   ],
   "source": [
    "s = \"Let's take LeetCode contest\"\n",
    "\n",
    "def stringWordReversal(s:str)->str:\n",
    "\n",
    "    return \" \".join([i[::-1] for i in s.split()])\n",
    "stringWordReversal(s)"
   ]
  },
  {
   "cell_type": "markdown",
   "id": "b127f0e3-1874-476d-83f8-8a763dbc6a1b",
   "metadata": {},
   "source": [
    "# Ans 5"
   ]
  },
  {
   "cell_type": "code",
   "execution_count": 5,
   "id": "d3439004-9fcb-4f16-80a7-0624c1b3c2be",
   "metadata": {},
   "outputs": [
    {
     "data": {
      "text/plain": [
       "'bacdfeg'"
      ]
     },
     "execution_count": 5,
     "metadata": {},
     "output_type": "execute_result"
    }
   ],
   "source": [
    "s = \"abcdefg\"\n",
    "k = 2\n",
    "def reverseStr(s, k):\n",
    "        a = list(s)\n",
    "        for i in range(0, len(a), 2*k):\n",
    "            a[i:i+k] = reversed(a[i:i+k])\n",
    "        return \"\".join(a)\n",
    "reverseStr(s,k)"
   ]
  },
  {
   "cell_type": "markdown",
   "id": "4573396c-60d0-4cf6-9be9-19a1ae31b84e",
   "metadata": {},
   "source": [
    "# Ans 6"
   ]
  },
  {
   "cell_type": "code",
   "execution_count": 6,
   "id": "658f3aec-b1bc-4551-b7d7-66ec5849d4f5",
   "metadata": {},
   "outputs": [
    {
     "data": {
      "text/plain": [
       "True"
      ]
     },
     "execution_count": 6,
     "metadata": {},
     "output_type": "execute_result"
    }
   ],
   "source": [
    "s = \"abcde\"\n",
    "goal = \"cdeab\"\n",
    "def strShift(s:str, goal:str)->bool:\n",
    "    \n",
    "    for i in range(len(s)):\n",
    "        s = s[-1]+s[:-1]\n",
    "        if s == goal:\n",
    "            return True\n",
    "    return False\n",
    "strShift(s,goal)"
   ]
  },
  {
   "cell_type": "markdown",
   "id": "24d0b948-d6ae-4952-a54f-7b2bf7445951",
   "metadata": {},
   "source": [
    "# Ans 7"
   ]
  },
  {
   "cell_type": "code",
   "execution_count": 7,
   "id": "0467bff7-b418-42ff-80cc-a0bcfdffed7c",
   "metadata": {},
   "outputs": [
    {
     "data": {
      "text/plain": [
       "True"
      ]
     },
     "execution_count": 7,
     "metadata": {},
     "output_type": "execute_result"
    }
   ],
   "source": [
    "s = \"ab#c\"\n",
    "t = \"ad#c\"\n",
    "def backspaceCompare(S, T):\n",
    "        def build(S):\n",
    "            ans = []\n",
    "            for c in S:\n",
    "                if c != '#':\n",
    "                    ans.append(c)\n",
    "                elif ans:\n",
    "                    ans.pop()\n",
    "            return \"\".join(ans)\n",
    "        return build(S) == build(T)\n",
    "backspaceCompare(s,t)"
   ]
  },
  {
   "cell_type": "markdown",
   "id": "a2bf36b5-b377-4170-a7bf-fd3336ffdd66",
   "metadata": {},
   "source": [
    "# Ans 8"
   ]
  },
  {
   "cell_type": "code",
   "execution_count": 8,
   "id": "0af09488-5139-48ba-9906-a387c0e35327",
   "metadata": {},
   "outputs": [
    {
     "data": {
      "text/plain": [
       "True"
      ]
     },
     "execution_count": 8,
     "metadata": {},
     "output_type": "execute_result"
    }
   ],
   "source": [
    "coordinates = [[1,2],[2,3],[3,4],[4,5],[5,6],[6,7]]\n",
    "def straightLineCheck(coordinates: list[list[int]])->bool:\n",
    "\n",
    "    if(coordinates[1][0]-coordinates[0][0]==0):\n",
    "            s=1e9\n",
    "    else:\n",
    "        s=(coordinates[1][1]-coordinates[0][1])//(coordinates[1][0]-coordinates[0][0])\n",
    "    for i in range(1,len(coordinates)):\n",
    "        slope=1e9\n",
    "        if(coordinates[i][0]-coordinates[i-1][0]!=0):\n",
    "            slope=(coordinates[i][1]-coordinates[i-1][1])//(coordinates[i][0]-coordinates[i-1][0])\n",
    "        if(slope!=s):\n",
    "            return False\n",
    "    return True \n",
    "straightLineCheck(coordinates)"
   ]
  },
  {
   "cell_type": "code",
   "execution_count": null,
   "id": "20100886-966b-46e1-a648-2a02f565b62b",
   "metadata": {},
   "outputs": [],
   "source": []
  }
 ],
 "metadata": {
  "kernelspec": {
   "display_name": "Python 3 (ipykernel)",
   "language": "python",
   "name": "python3"
  },
  "language_info": {
   "codemirror_mode": {
    "name": "ipython",
    "version": 3
   },
   "file_extension": ".py",
   "mimetype": "text/x-python",
   "name": "python",
   "nbconvert_exporter": "python",
   "pygments_lexer": "ipython3",
   "version": "3.10.8"
  }
 },
 "nbformat": 4,
 "nbformat_minor": 5
}
